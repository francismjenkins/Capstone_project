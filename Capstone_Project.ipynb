{
 "cells": [
  {
   "cell_type": "markdown",
   "metadata": {
    "slideshow": {
     "slide_type": "slide"
    }
   },
   "source": [
    "## In this notebook:\n",
    "* Analysis of TCGA dataset containing gene expression values for both normal and cancer cells.\n",
    "* Cancer type is clear cell renal carcinoma (kidney cancer)\n",
    "* The dataset can be found at: https://tcga.xenahubs.net/download/TCGA.KIRC.sampleMap/HiSeqV2.gz\n",
    "* Brief discussion of the goal of this project and the workflow\n",
    "* Data wrangling\n",
    "* Data filtering\n",
    "* EDA\n",
    "* Differential expression analysis\n",
    "* Correlation analysis\n",
    "* Unsupervised learning\n",
    "* Interpretation of results"
   ]
  },
  {
   "cell_type": "markdown",
   "metadata": {
    "slideshow": {
     "slide_type": "slide"
    }
   },
   "source": [
    "### Analysis of TCGA gene expression dataset for clear cell renal carcinoma.\n",
    "\n",
    "The goal of this analysis is to find differences in gene expression profiles between the two sample populations: normal cells vs cancer cells. The two groups will be compared through an analysis of a gene expression dataset downloaded from The Cancer Genome Atlas (TCGA). The dataset contains expression values (sequence counts) generated via the Illumina HiSeq platform. \n",
    "\n",
    "\n",
    "### Summary of the Differential Expression Analysis Workflow:\n",
    "\n",
    "1) Involves identifying genes whose expression levels change between two sample groups.\n",
    "\n",
    "2) We begin by importing our dataset and necessary packages.\n",
    "\n",
    "3) Then, we can reduce our dataset by filtering out all genes with zero values.\n",
    "\n",
    "4) Next, we can split our dataset using regular expressions:\n",
    "\n",
    "    a) Expression values for cancer cells in one dataframe\n",
    "    \n",
    "    b) Expression values for normal cells in another dataframe\n",
    "\n",
    "5) Because the dataset has already been normalized and log(2) transformed, no additional preprocessing is required\n",
    "\n",
    "6) We can further truncate our dataset using the IQR method. However, for this demonstration, we only reduce the dataset through filtering out all genes with zero values. \n",
    "\n",
    "7) The differential expression (DE) workflow:\n",
    "\n",
    "    a) Calculate the mean for each row (or each gene) in both dataframes\n",
    "    \n",
    "    b) calculate the variance for each row in both dataframes\n",
    "    \n",
    "    c) Calculate the t-statistic for each gene across both dataframes\n",
    "    \n",
    "    d) Because we have a large number of replicates for each group and only two groups, the t-statistic can be used\n",
    "\n",
    "8) Show the top 25 differentially expressed genes.\n",
    "\n",
    "### Purpose and intended audience\n",
    "* The purpose of this project is to demonstrate pythonic techniques for performing basic gene expression analysis.\n",
    "* This can be useful to novice bioinformaticians and enthusiasts interested in gene expression analysis.\n",
    "* Some caveats:\n",
    "    * Differential expression analysis was performed using the t-statistic method. While the t-test method is suitable in this case because of the size of the dataset, a more generalized technique would utilize Bayesian based methods\n",
    "    * While hierarchical clustering is one way to find coexpression networks, there are packages specifically designed to perform this function. Many Bioconductor packages (designed for the R programming language) can be called from python using the rpy2 module. Good packages for differential expression and coexpression analysis include edgeR and WGCNA"
   ]
  },
  {
   "cell_type": "markdown",
   "metadata": {
    "slideshow": {
     "slide_type": "slide"
    }
   },
   "source": [
    "## Data wrangling"
   ]
  },
  {
   "cell_type": "code",
   "execution_count": 58,
   "metadata": {
    "scrolled": true,
    "slideshow": {
     "slide_type": "subslide"
    }
   },
   "outputs": [
    {
     "name": "stdout",
     "output_type": "stream",
     "text": [
      "Current working directory c:\\users\\frank\\desktop\\python_springboard\\datasets\n"
     ]
    }
   ],
   "source": [
    "import pandas as pd\n",
    "import os\n",
    "import numpy as np\n",
    "import matplotlib.pyplot as plt\n",
    " \n",
    "%matplotlib inline\n",
    " \n",
    "print(\"Current working directory\" , os.getcwd()) # print out current working directory"
   ]
  },
  {
   "cell_type": "markdown",
   "metadata": {
    "slideshow": {
     "slide_type": "slide"
    }
   },
   "source": [
    "### Read in data and print header"
   ]
  },
  {
   "cell_type": "code",
   "execution_count": 59,
   "metadata": {
    "slideshow": {
     "slide_type": "subslide"
    }
   },
   "outputs": [],
   "source": [
    "os.chdir('c:/users/frank/desktop/python_springboard/datasets')"
   ]
  },
  {
   "cell_type": "code",
   "execution_count": 60,
   "metadata": {
    "slideshow": {
     "slide_type": "subslide"
    }
   },
   "outputs": [],
   "source": [
    "filename = 'HiSeqV2.csv' # assign dataset to filename object\n",
    "data = pd.read_csv(filename, sep = ',') # read in csv file as pandas dataframe"
   ]
  },
  {
   "cell_type": "code",
   "execution_count": 61,
   "metadata": {
    "slideshow": {
     "slide_type": "subslide"
    }
   },
   "outputs": [],
   "source": [
    "data = data.set_index('sample')"
   ]
  },
  {
   "cell_type": "code",
   "execution_count": 62,
   "metadata": {
    "slideshow": {
     "slide_type": "slide"
    }
   },
   "outputs": [
    {
     "data": {
      "text/html": [
       "<div>\n",
       "<style scoped>\n",
       "    .dataframe tbody tr th:only-of-type {\n",
       "        vertical-align: middle;\n",
       "    }\n",
       "\n",
       "    .dataframe tbody tr th {\n",
       "        vertical-align: top;\n",
       "    }\n",
       "\n",
       "    .dataframe thead th {\n",
       "        text-align: right;\n",
       "    }\n",
       "</style>\n",
       "<table border=\"1\" class=\"dataframe\">\n",
       "  <thead>\n",
       "    <tr style=\"text-align: right;\">\n",
       "      <th></th>\n",
       "      <th>TCGA-BP-4162-01</th>\n",
       "      <th>TCGA-CJ-5677-11</th>\n",
       "      <th>TCGA-DV-5566-01</th>\n",
       "      <th>TCGA-BP-5191-01</th>\n",
       "      <th>TCGA-BP-5200-01</th>\n",
       "      <th>TCGA-BP-4347-01</th>\n",
       "      <th>TCGA-BP-4770-01</th>\n",
       "      <th>TCGA-B0-5696-11</th>\n",
       "      <th>TCGA-BP-4762-01</th>\n",
       "      <th>TCGA-BP-4158-01</th>\n",
       "      <th>...</th>\n",
       "      <th>TCGA-B0-5104-01</th>\n",
       "      <th>TCGA-A3-3313-01</th>\n",
       "      <th>TCGA-B2-5633-01</th>\n",
       "      <th>TCGA-CJ-4872-01</th>\n",
       "      <th>TCGA-CJ-5684-01</th>\n",
       "      <th>TCGA-CJ-4886-01</th>\n",
       "      <th>TCGA-BP-5009-01</th>\n",
       "      <th>TCGA-BP-4969-01</th>\n",
       "      <th>TCGA-CZ-5461-01</th>\n",
       "      <th>TCGA-CW-5587-01</th>\n",
       "    </tr>\n",
       "    <tr>\n",
       "      <th>sample</th>\n",
       "      <th></th>\n",
       "      <th></th>\n",
       "      <th></th>\n",
       "      <th></th>\n",
       "      <th></th>\n",
       "      <th></th>\n",
       "      <th></th>\n",
       "      <th></th>\n",
       "      <th></th>\n",
       "      <th></th>\n",
       "      <th></th>\n",
       "      <th></th>\n",
       "      <th></th>\n",
       "      <th></th>\n",
       "      <th></th>\n",
       "      <th></th>\n",
       "      <th></th>\n",
       "      <th></th>\n",
       "      <th></th>\n",
       "      <th></th>\n",
       "      <th></th>\n",
       "    </tr>\n",
       "  </thead>\n",
       "  <tbody>\n",
       "    <tr>\n",
       "      <th>ARHGEF10L</th>\n",
       "      <td>10.5030</td>\n",
       "      <td>10.8969</td>\n",
       "      <td>10.7612</td>\n",
       "      <td>10.2063</td>\n",
       "      <td>10.0616</td>\n",
       "      <td>10.0193</td>\n",
       "      <td>8.4364</td>\n",
       "      <td>11.1427</td>\n",
       "      <td>9.9150</td>\n",
       "      <td>10.7621</td>\n",
       "      <td>...</td>\n",
       "      <td>10.5586</td>\n",
       "      <td>9.5556</td>\n",
       "      <td>10.2652</td>\n",
       "      <td>9.4981</td>\n",
       "      <td>10.2751</td>\n",
       "      <td>9.9525</td>\n",
       "      <td>10.1273</td>\n",
       "      <td>10.8817</td>\n",
       "      <td>10.1949</td>\n",
       "      <td>10.3294</td>\n",
       "    </tr>\n",
       "    <tr>\n",
       "      <th>HIF3A</th>\n",
       "      <td>5.5283</td>\n",
       "      <td>6.4943</td>\n",
       "      <td>5.7842</td>\n",
       "      <td>5.0063</td>\n",
       "      <td>5.3326</td>\n",
       "      <td>7.6102</td>\n",
       "      <td>6.0422</td>\n",
       "      <td>5.9789</td>\n",
       "      <td>3.7802</td>\n",
       "      <td>7.2039</td>\n",
       "      <td>...</td>\n",
       "      <td>6.2061</td>\n",
       "      <td>4.8253</td>\n",
       "      <td>5.1680</td>\n",
       "      <td>8.6195</td>\n",
       "      <td>6.2080</td>\n",
       "      <td>6.3116</td>\n",
       "      <td>6.7446</td>\n",
       "      <td>7.8293</td>\n",
       "      <td>6.1788</td>\n",
       "      <td>6.2293</td>\n",
       "    </tr>\n",
       "    <tr>\n",
       "      <th>RNF17</th>\n",
       "      <td>3.8036</td>\n",
       "      <td>0.0000</td>\n",
       "      <td>0.0000</td>\n",
       "      <td>0.0000</td>\n",
       "      <td>0.0000</td>\n",
       "      <td>0.3386</td>\n",
       "      <td>0.0000</td>\n",
       "      <td>0.0000</td>\n",
       "      <td>0.0000</td>\n",
       "      <td>0.0000</td>\n",
       "      <td>...</td>\n",
       "      <td>0.0000</td>\n",
       "      <td>0.0000</td>\n",
       "      <td>0.0000</td>\n",
       "      <td>0.0000</td>\n",
       "      <td>0.0000</td>\n",
       "      <td>0.0000</td>\n",
       "      <td>0.0000</td>\n",
       "      <td>0.0000</td>\n",
       "      <td>0.6128</td>\n",
       "      <td>0.0000</td>\n",
       "    </tr>\n",
       "    <tr>\n",
       "      <th>RNF10</th>\n",
       "      <td>11.4379</td>\n",
       "      <td>12.2130</td>\n",
       "      <td>11.5478</td>\n",
       "      <td>12.3439</td>\n",
       "      <td>11.5149</td>\n",
       "      <td>11.4065</td>\n",
       "      <td>12.1963</td>\n",
       "      <td>12.3946</td>\n",
       "      <td>11.3734</td>\n",
       "      <td>11.3251</td>\n",
       "      <td>...</td>\n",
       "      <td>11.7338</td>\n",
       "      <td>11.7709</td>\n",
       "      <td>11.4968</td>\n",
       "      <td>11.9561</td>\n",
       "      <td>11.7518</td>\n",
       "      <td>11.5698</td>\n",
       "      <td>12.1565</td>\n",
       "      <td>11.3048</td>\n",
       "      <td>11.5168</td>\n",
       "      <td>11.3489</td>\n",
       "    </tr>\n",
       "    <tr>\n",
       "      <th>RNF11</th>\n",
       "      <td>11.4180</td>\n",
       "      <td>11.8248</td>\n",
       "      <td>11.3190</td>\n",
       "      <td>10.3413</td>\n",
       "      <td>11.2923</td>\n",
       "      <td>10.9971</td>\n",
       "      <td>11.8936</td>\n",
       "      <td>11.7217</td>\n",
       "      <td>12.2329</td>\n",
       "      <td>11.2993</td>\n",
       "      <td>...</td>\n",
       "      <td>11.7629</td>\n",
       "      <td>10.2373</td>\n",
       "      <td>11.4637</td>\n",
       "      <td>11.4391</td>\n",
       "      <td>11.3992</td>\n",
       "      <td>11.4937</td>\n",
       "      <td>11.4015</td>\n",
       "      <td>10.8842</td>\n",
       "      <td>11.6230</td>\n",
       "      <td>11.5469</td>\n",
       "    </tr>\n",
       "  </tbody>\n",
       "</table>\n",
       "<p>5 rows × 606 columns</p>\n",
       "</div>"
      ],
      "text/plain": [
       "           TCGA-BP-4162-01  TCGA-CJ-5677-11  TCGA-DV-5566-01  TCGA-BP-5191-01  \\\n",
       "sample                                                                          \n",
       "ARHGEF10L          10.5030          10.8969          10.7612          10.2063   \n",
       "HIF3A               5.5283           6.4943           5.7842           5.0063   \n",
       "RNF17               3.8036           0.0000           0.0000           0.0000   \n",
       "RNF10              11.4379          12.2130          11.5478          12.3439   \n",
       "RNF11              11.4180          11.8248          11.3190          10.3413   \n",
       "\n",
       "           TCGA-BP-5200-01  TCGA-BP-4347-01  TCGA-BP-4770-01  TCGA-B0-5696-11  \\\n",
       "sample                                                                          \n",
       "ARHGEF10L          10.0616          10.0193           8.4364          11.1427   \n",
       "HIF3A               5.3326           7.6102           6.0422           5.9789   \n",
       "RNF17               0.0000           0.3386           0.0000           0.0000   \n",
       "RNF10              11.5149          11.4065          12.1963          12.3946   \n",
       "RNF11              11.2923          10.9971          11.8936          11.7217   \n",
       "\n",
       "           TCGA-BP-4762-01  TCGA-BP-4158-01       ...         TCGA-B0-5104-01  \\\n",
       "sample                                            ...                           \n",
       "ARHGEF10L           9.9150          10.7621       ...                 10.5586   \n",
       "HIF3A               3.7802           7.2039       ...                  6.2061   \n",
       "RNF17               0.0000           0.0000       ...                  0.0000   \n",
       "RNF10              11.3734          11.3251       ...                 11.7338   \n",
       "RNF11              12.2329          11.2993       ...                 11.7629   \n",
       "\n",
       "           TCGA-A3-3313-01  TCGA-B2-5633-01  TCGA-CJ-4872-01  TCGA-CJ-5684-01  \\\n",
       "sample                                                                          \n",
       "ARHGEF10L           9.5556          10.2652           9.4981          10.2751   \n",
       "HIF3A               4.8253           5.1680           8.6195           6.2080   \n",
       "RNF17               0.0000           0.0000           0.0000           0.0000   \n",
       "RNF10              11.7709          11.4968          11.9561          11.7518   \n",
       "RNF11              10.2373          11.4637          11.4391          11.3992   \n",
       "\n",
       "           TCGA-CJ-4886-01  TCGA-BP-5009-01  TCGA-BP-4969-01  TCGA-CZ-5461-01  \\\n",
       "sample                                                                          \n",
       "ARHGEF10L           9.9525          10.1273          10.8817          10.1949   \n",
       "HIF3A               6.3116           6.7446           7.8293           6.1788   \n",
       "RNF17               0.0000           0.0000           0.0000           0.6128   \n",
       "RNF10              11.5698          12.1565          11.3048          11.5168   \n",
       "RNF11              11.4937          11.4015          10.8842          11.6230   \n",
       "\n",
       "           TCGA-CW-5587-01  \n",
       "sample                      \n",
       "ARHGEF10L          10.3294  \n",
       "HIF3A               6.2293  \n",
       "RNF17               0.0000  \n",
       "RNF10              11.3489  \n",
       "RNF11              11.5469  \n",
       "\n",
       "[5 rows x 606 columns]"
      ]
     },
     "execution_count": 62,
     "metadata": {},
     "output_type": "execute_result"
    }
   ],
   "source": [
    "data.head() # print head to verify proper formatting "
   ]
  },
  {
   "cell_type": "markdown",
   "metadata": {
    "slideshow": {
     "slide_type": "slide"
    }
   },
   "source": [
    "### Drop rows with zero values"
   ]
  },
  {
   "cell_type": "code",
   "execution_count": 63,
   "metadata": {
    "slideshow": {
     "slide_type": "subslide"
    }
   },
   "outputs": [
    {
     "data": {
      "text/plain": [
       "(12580, 606)"
      ]
     },
     "execution_count": 63,
     "metadata": {},
     "output_type": "execute_result"
    }
   ],
   "source": [
    "df_replace = data.replace(0.0000, np.nan)\n",
    "df_dropped = df_replace.dropna(axis=0, how='any')\n",
    "df_dropped.shape"
   ]
  },
  {
   "cell_type": "markdown",
   "metadata": {
    "slideshow": {
     "slide_type": "slide"
    }
   },
   "source": [
    "### Split data into two dataframes:\n",
    "* The first dataframe (df1) contains expression values for normal cells\n",
    "* The second dataframe (df2) contains expression values for cancer cells"
   ]
  },
  {
   "cell_type": "code",
   "execution_count": 64,
   "metadata": {
    "slideshow": {
     "slide_type": "subslide"
    }
   },
   "outputs": [],
   "source": [
    "df1 = df_dropped.filter(regex = 'sample|11$', axis =1)\n",
    "# Creating new dataframe with only columns containing expression values for normal cells"
   ]
  },
  {
   "cell_type": "code",
   "execution_count": 65,
   "metadata": {
    "slideshow": {
     "slide_type": "subslide"
    }
   },
   "outputs": [
    {
     "data": {
      "text/plain": [
       "(12580, 72)"
      ]
     },
     "execution_count": 65,
     "metadata": {},
     "output_type": "execute_result"
    }
   ],
   "source": [
    "df1.shape"
   ]
  },
  {
   "cell_type": "code",
   "execution_count": 66,
   "metadata": {
    "slideshow": {
     "slide_type": "subslide"
    }
   },
   "outputs": [
    {
     "data": {
      "text/html": [
       "<div>\n",
       "<style scoped>\n",
       "    .dataframe tbody tr th:only-of-type {\n",
       "        vertical-align: middle;\n",
       "    }\n",
       "\n",
       "    .dataframe tbody tr th {\n",
       "        vertical-align: top;\n",
       "    }\n",
       "\n",
       "    .dataframe thead th {\n",
       "        text-align: right;\n",
       "    }\n",
       "</style>\n",
       "<table border=\"1\" class=\"dataframe\">\n",
       "  <thead>\n",
       "    <tr style=\"text-align: right;\">\n",
       "      <th></th>\n",
       "      <th>TCGA-CJ-5677-11</th>\n",
       "      <th>TCGA-B0-5696-11</th>\n",
       "      <th>TCGA-CJ-5679-11</th>\n",
       "      <th>TCGA-CZ-5452-11</th>\n",
       "      <th>TCGA-B0-5712-11</th>\n",
       "      <th>TCGA-CW-5584-11</th>\n",
       "      <th>TCGA-B0-5701-11</th>\n",
       "      <th>TCGA-CZ-5461-11</th>\n",
       "      <th>TCGA-B0-5690-11</th>\n",
       "      <th>TCGA-CZ-5468-11</th>\n",
       "      <th>...</th>\n",
       "      <th>TCGA-CW-5580-11</th>\n",
       "      <th>TCGA-B8-5552-11</th>\n",
       "      <th>TCGA-CZ-4865-11</th>\n",
       "      <th>TCGA-CZ-4863-11</th>\n",
       "      <th>TCGA-B2-5636-11</th>\n",
       "      <th>TCGA-CW-6088-11</th>\n",
       "      <th>TCGA-CZ-5982-11</th>\n",
       "      <th>TCGA-CZ-5469-11</th>\n",
       "      <th>TCGA-CJ-5678-11</th>\n",
       "      <th>TCGA-CZ-5451-11</th>\n",
       "    </tr>\n",
       "    <tr>\n",
       "      <th>sample</th>\n",
       "      <th></th>\n",
       "      <th></th>\n",
       "      <th></th>\n",
       "      <th></th>\n",
       "      <th></th>\n",
       "      <th></th>\n",
       "      <th></th>\n",
       "      <th></th>\n",
       "      <th></th>\n",
       "      <th></th>\n",
       "      <th></th>\n",
       "      <th></th>\n",
       "      <th></th>\n",
       "      <th></th>\n",
       "      <th></th>\n",
       "      <th></th>\n",
       "      <th></th>\n",
       "      <th></th>\n",
       "      <th></th>\n",
       "      <th></th>\n",
       "      <th></th>\n",
       "    </tr>\n",
       "  </thead>\n",
       "  <tbody>\n",
       "    <tr>\n",
       "      <th>ARHGEF10L</th>\n",
       "      <td>10.8969</td>\n",
       "      <td>11.1427</td>\n",
       "      <td>10.3362</td>\n",
       "      <td>10.9979</td>\n",
       "      <td>10.6467</td>\n",
       "      <td>10.6163</td>\n",
       "      <td>10.6772</td>\n",
       "      <td>10.5352</td>\n",
       "      <td>10.9610</td>\n",
       "      <td>10.8893</td>\n",
       "      <td>...</td>\n",
       "      <td>10.8603</td>\n",
       "      <td>9.4288</td>\n",
       "      <td>10.3868</td>\n",
       "      <td>10.2874</td>\n",
       "      <td>10.9476</td>\n",
       "      <td>10.8848</td>\n",
       "      <td>10.7783</td>\n",
       "      <td>10.3262</td>\n",
       "      <td>10.4025</td>\n",
       "      <td>10.9598</td>\n",
       "    </tr>\n",
       "    <tr>\n",
       "      <th>HIF3A</th>\n",
       "      <td>6.4943</td>\n",
       "      <td>5.9789</td>\n",
       "      <td>6.0228</td>\n",
       "      <td>7.8769</td>\n",
       "      <td>8.5452</td>\n",
       "      <td>5.1819</td>\n",
       "      <td>8.6367</td>\n",
       "      <td>4.9484</td>\n",
       "      <td>7.1702</td>\n",
       "      <td>7.2163</td>\n",
       "      <td>...</td>\n",
       "      <td>8.3424</td>\n",
       "      <td>5.5908</td>\n",
       "      <td>7.9224</td>\n",
       "      <td>7.5603</td>\n",
       "      <td>6.4780</td>\n",
       "      <td>8.5598</td>\n",
       "      <td>6.5021</td>\n",
       "      <td>6.9556</td>\n",
       "      <td>5.5893</td>\n",
       "      <td>6.8364</td>\n",
       "    </tr>\n",
       "    <tr>\n",
       "      <th>RNF10</th>\n",
       "      <td>12.2130</td>\n",
       "      <td>12.3946</td>\n",
       "      <td>12.3002</td>\n",
       "      <td>12.4976</td>\n",
       "      <td>12.1206</td>\n",
       "      <td>12.1293</td>\n",
       "      <td>12.1640</td>\n",
       "      <td>12.2868</td>\n",
       "      <td>12.2738</td>\n",
       "      <td>12.2829</td>\n",
       "      <td>...</td>\n",
       "      <td>12.4214</td>\n",
       "      <td>11.3729</td>\n",
       "      <td>11.9933</td>\n",
       "      <td>11.9568</td>\n",
       "      <td>12.1550</td>\n",
       "      <td>12.4600</td>\n",
       "      <td>12.0911</td>\n",
       "      <td>12.3941</td>\n",
       "      <td>12.0396</td>\n",
       "      <td>12.2514</td>\n",
       "    </tr>\n",
       "    <tr>\n",
       "      <th>RNF11</th>\n",
       "      <td>11.8248</td>\n",
       "      <td>11.7217</td>\n",
       "      <td>12.0602</td>\n",
       "      <td>11.6335</td>\n",
       "      <td>11.8102</td>\n",
       "      <td>11.6994</td>\n",
       "      <td>11.5128</td>\n",
       "      <td>11.9681</td>\n",
       "      <td>11.5019</td>\n",
       "      <td>11.7200</td>\n",
       "      <td>...</td>\n",
       "      <td>11.6284</td>\n",
       "      <td>12.6320</td>\n",
       "      <td>11.9769</td>\n",
       "      <td>11.9774</td>\n",
       "      <td>11.6255</td>\n",
       "      <td>11.4753</td>\n",
       "      <td>11.9079</td>\n",
       "      <td>11.7476</td>\n",
       "      <td>11.9066</td>\n",
       "      <td>11.7847</td>\n",
       "    </tr>\n",
       "    <tr>\n",
       "      <th>RNF13</th>\n",
       "      <td>10.7779</td>\n",
       "      <td>10.8412</td>\n",
       "      <td>10.8172</td>\n",
       "      <td>10.9679</td>\n",
       "      <td>10.7033</td>\n",
       "      <td>10.6184</td>\n",
       "      <td>10.7271</td>\n",
       "      <td>11.0801</td>\n",
       "      <td>10.9754</td>\n",
       "      <td>10.7149</td>\n",
       "      <td>...</td>\n",
       "      <td>11.0227</td>\n",
       "      <td>11.2715</td>\n",
       "      <td>11.0244</td>\n",
       "      <td>10.7831</td>\n",
       "      <td>10.8893</td>\n",
       "      <td>10.9174</td>\n",
       "      <td>10.8537</td>\n",
       "      <td>10.6932</td>\n",
       "      <td>11.0341</td>\n",
       "      <td>10.9808</td>\n",
       "    </tr>\n",
       "  </tbody>\n",
       "</table>\n",
       "<p>5 rows × 72 columns</p>\n",
       "</div>"
      ],
      "text/plain": [
       "           TCGA-CJ-5677-11  TCGA-B0-5696-11  TCGA-CJ-5679-11  TCGA-CZ-5452-11  \\\n",
       "sample                                                                          \n",
       "ARHGEF10L          10.8969          11.1427          10.3362          10.9979   \n",
       "HIF3A               6.4943           5.9789           6.0228           7.8769   \n",
       "RNF10              12.2130          12.3946          12.3002          12.4976   \n",
       "RNF11              11.8248          11.7217          12.0602          11.6335   \n",
       "RNF13              10.7779          10.8412          10.8172          10.9679   \n",
       "\n",
       "           TCGA-B0-5712-11  TCGA-CW-5584-11  TCGA-B0-5701-11  TCGA-CZ-5461-11  \\\n",
       "sample                                                                          \n",
       "ARHGEF10L          10.6467          10.6163          10.6772          10.5352   \n",
       "HIF3A               8.5452           5.1819           8.6367           4.9484   \n",
       "RNF10              12.1206          12.1293          12.1640          12.2868   \n",
       "RNF11              11.8102          11.6994          11.5128          11.9681   \n",
       "RNF13              10.7033          10.6184          10.7271          11.0801   \n",
       "\n",
       "           TCGA-B0-5690-11  TCGA-CZ-5468-11       ...         TCGA-CW-5580-11  \\\n",
       "sample                                            ...                           \n",
       "ARHGEF10L          10.9610          10.8893       ...                 10.8603   \n",
       "HIF3A               7.1702           7.2163       ...                  8.3424   \n",
       "RNF10              12.2738          12.2829       ...                 12.4214   \n",
       "RNF11              11.5019          11.7200       ...                 11.6284   \n",
       "RNF13              10.9754          10.7149       ...                 11.0227   \n",
       "\n",
       "           TCGA-B8-5552-11  TCGA-CZ-4865-11  TCGA-CZ-4863-11  TCGA-B2-5636-11  \\\n",
       "sample                                                                          \n",
       "ARHGEF10L           9.4288          10.3868          10.2874          10.9476   \n",
       "HIF3A               5.5908           7.9224           7.5603           6.4780   \n",
       "RNF10              11.3729          11.9933          11.9568          12.1550   \n",
       "RNF11              12.6320          11.9769          11.9774          11.6255   \n",
       "RNF13              11.2715          11.0244          10.7831          10.8893   \n",
       "\n",
       "           TCGA-CW-6088-11  TCGA-CZ-5982-11  TCGA-CZ-5469-11  TCGA-CJ-5678-11  \\\n",
       "sample                                                                          \n",
       "ARHGEF10L          10.8848          10.7783          10.3262          10.4025   \n",
       "HIF3A               8.5598           6.5021           6.9556           5.5893   \n",
       "RNF10              12.4600          12.0911          12.3941          12.0396   \n",
       "RNF11              11.4753          11.9079          11.7476          11.9066   \n",
       "RNF13              10.9174          10.8537          10.6932          11.0341   \n",
       "\n",
       "           TCGA-CZ-5451-11  \n",
       "sample                      \n",
       "ARHGEF10L          10.9598  \n",
       "HIF3A               6.8364  \n",
       "RNF10              12.2514  \n",
       "RNF11              11.7847  \n",
       "RNF13              10.9808  \n",
       "\n",
       "[5 rows x 72 columns]"
      ]
     },
     "execution_count": 66,
     "metadata": {},
     "output_type": "execute_result"
    }
   ],
   "source": [
    "df1.head()"
   ]
  },
  {
   "cell_type": "code",
   "execution_count": 67,
   "metadata": {
    "slideshow": {
     "slide_type": "subslide"
    }
   },
   "outputs": [],
   "source": [
    "df2 = df_dropped.filter(regex = 'sample|01|05$', axis = 1)\n",
    "# Creating new dataframe with only columns containing expression values for cancer cells"
   ]
  },
  {
   "cell_type": "code",
   "execution_count": 68,
   "metadata": {
    "slideshow": {
     "slide_type": "subslide"
    }
   },
   "outputs": [
    {
     "data": {
      "text/plain": [
       "(12580, 535)"
      ]
     },
     "execution_count": 68,
     "metadata": {},
     "output_type": "execute_result"
    }
   ],
   "source": [
    "df2.shape"
   ]
  },
  {
   "cell_type": "markdown",
   "metadata": {
    "slideshow": {
     "slide_type": "slide"
    }
   },
   "source": [
    "## Generate density plots to confirm the shape of the distribution"
   ]
  },
  {
   "cell_type": "markdown",
   "metadata": {
    "slideshow": {
     "slide_type": "subslide"
    }
   },
   "source": [
    "#### KDE plots of processed data separated by sample type (cancer/normal)"
   ]
  },
  {
   "cell_type": "code",
   "execution_count": 20,
   "metadata": {
    "slideshow": {
     "slide_type": "subslide"
    }
   },
   "outputs": [
    {
     "data": {
      "text/plain": [
       "<matplotlib.axes._subplots.AxesSubplot at 0x1e797090c88>"
      ]
     },
     "execution_count": 20,
     "metadata": {},
     "output_type": "execute_result"
    },
    {
     "data": {
      "image/png": "[encoded data removed]",
      "text/plain": [
       "<Figure size 432x288 with 1 Axes>"
      ]
     },
     "metadata": {},
     "output_type": "display_data"
    }
   ],
   "source": [
    "df1.plot(kind='kde', legend=False) # normal cells"
   ]
  },
  {
   "cell_type": "code",
   "execution_count": 23,
   "metadata": {
    "slideshow": {
     "slide_type": "subslide"
    }
   },
   "outputs": [
    {
     "data": {
      "text/plain": [
       "<matplotlib.axes._subplots.AxesSubplot at 0x1e7985f9710>"
      ]
     },
     "execution_count": 23,
     "metadata": {},
     "output_type": "execute_result"
    },
    {
     "data": {
      "image/png": "[encoded data removed]",
      "text/plain": [
       "<Figure size 432x288 with 1 Axes>"
      ]
     },
     "metadata": {},
     "output_type": "display_data"
    }
   ],
   "source": [
    "df2.plot(kind='kde', legend=False) # cancer cells"
   ]
  },
  {
   "cell_type": "markdown",
   "metadata": {
    "slideshow": {
     "slide_type": "slide"
    }
   },
   "source": [
    "## Differential expression analysis"
   ]
  },
  {
   "cell_type": "code",
   "execution_count": 69,
   "metadata": {
    "slideshow": {
     "slide_type": "subslide"
    }
   },
   "outputs": [],
   "source": [
    "import warnings\n",
    "warnings.simplefilter(\"ignore\")\n",
    "from scipy.stats import ttest_ind, ttest_ind_from_stats\n",
    "\n",
    "\n",
    "df1['mean1'] = df1[df1.columns].mean(axis=1)\n",
    "df1['variance1'] = df1[df1.columns].var(axis=1)\n",
    "df2['mean2'] = df2[df2.columns].mean(axis=1)\n",
    "df2['variance2'] = df2[df2.columns].var(axis=1)\n",
    "\n"
   ]
  },
  {
   "cell_type": "markdown",
   "metadata": {},
   "source": [
    "### Add columns with the row-wise mean and variance to gene exp dataframes"
   ]
  },
  {
   "cell_type": "code",
   "execution_count": 70,
   "metadata": {
    "slideshow": {
     "slide_type": "subslide"
    }
   },
   "outputs": [
    {
     "data": {
      "text/html": [
       "<div>\n",
       "<style scoped>\n",
       "    .dataframe tbody tr th:only-of-type {\n",
       "        vertical-align: middle;\n",
       "    }\n",
       "\n",
       "    .dataframe tbody tr th {\n",
       "        vertical-align: top;\n",
       "    }\n",
       "\n",
       "    .dataframe thead th {\n",
       "        text-align: right;\n",
       "    }\n",
       "</style>\n",
       "<table border=\"1\" class=\"dataframe\">\n",
       "  <thead>\n",
       "    <tr style=\"text-align: right;\">\n",
       "      <th></th>\n",
       "      <th>mean1</th>\n",
       "      <th>variance1</th>\n",
       "    </tr>\n",
       "    <tr>\n",
       "      <th>sample</th>\n",
       "      <th></th>\n",
       "      <th></th>\n",
       "    </tr>\n",
       "  </thead>\n",
       "  <tbody>\n",
       "    <tr>\n",
       "      <th>ARHGEF10L</th>\n",
       "      <td>10.587401</td>\n",
       "      <td>0.124498</td>\n",
       "    </tr>\n",
       "    <tr>\n",
       "      <th>HIF3A</th>\n",
       "      <td>6.844586</td>\n",
       "      <td>0.760941</td>\n",
       "    </tr>\n",
       "    <tr>\n",
       "      <th>RNF10</th>\n",
       "      <td>12.214072</td>\n",
       "      <td>0.057677</td>\n",
       "    </tr>\n",
       "    <tr>\n",
       "      <th>RNF11</th>\n",
       "      <td>11.827933</td>\n",
       "      <td>0.047012</td>\n",
       "    </tr>\n",
       "    <tr>\n",
       "      <th>RNF13</th>\n",
       "      <td>10.933962</td>\n",
       "      <td>0.038483</td>\n",
       "    </tr>\n",
       "  </tbody>\n",
       "</table>\n",
       "</div>"
      ],
      "text/plain": [
       "               mean1  variance1\n",
       "sample                         \n",
       "ARHGEF10L  10.587401   0.124498\n",
       "HIF3A       6.844586   0.760941\n",
       "RNF10      12.214072   0.057677\n",
       "RNF11      11.827933   0.047012\n",
       "RNF13      10.933962   0.038483"
      ]
     },
     "execution_count": 70,
     "metadata": {},
     "output_type": "execute_result"
    }
   ],
   "source": [
    "df1_stats = df1[['mean1', 'variance1']]\n",
    "df1_stats.head()"
   ]
  },
  {
   "cell_type": "code",
   "execution_count": 71,
   "metadata": {
    "slideshow": {
     "slide_type": "subslide"
    }
   },
   "outputs": [
    {
     "data": {
      "text/html": [
       "<div>\n",
       "<style scoped>\n",
       "    .dataframe tbody tr th:only-of-type {\n",
       "        vertical-align: middle;\n",
       "    }\n",
       "\n",
       "    .dataframe tbody tr th {\n",
       "        vertical-align: top;\n",
       "    }\n",
       "\n",
       "    .dataframe thead th {\n",
       "        text-align: right;\n",
       "    }\n",
       "</style>\n",
       "<table border=\"1\" class=\"dataframe\">\n",
       "  <thead>\n",
       "    <tr style=\"text-align: right;\">\n",
       "      <th></th>\n",
       "      <th>mean2</th>\n",
       "      <th>variance2</th>\n",
       "    </tr>\n",
       "    <tr>\n",
       "      <th>sample</th>\n",
       "      <th></th>\n",
       "      <th></th>\n",
       "    </tr>\n",
       "  </thead>\n",
       "  <tbody>\n",
       "    <tr>\n",
       "      <th>ARHGEF10L</th>\n",
       "      <td>10.132370</td>\n",
       "      <td>0.506471</td>\n",
       "    </tr>\n",
       "    <tr>\n",
       "      <th>HIF3A</th>\n",
       "      <td>6.221919</td>\n",
       "      <td>2.489839</td>\n",
       "    </tr>\n",
       "    <tr>\n",
       "      <th>RNF10</th>\n",
       "      <td>11.675401</td>\n",
       "      <td>0.102617</td>\n",
       "    </tr>\n",
       "    <tr>\n",
       "      <th>RNF11</th>\n",
       "      <td>11.322741</td>\n",
       "      <td>0.198024</td>\n",
       "    </tr>\n",
       "    <tr>\n",
       "      <th>RNF13</th>\n",
       "      <td>10.980765</td>\n",
       "      <td>0.231565</td>\n",
       "    </tr>\n",
       "  </tbody>\n",
       "</table>\n",
       "</div>"
      ],
      "text/plain": [
       "               mean2  variance2\n",
       "sample                         \n",
       "ARHGEF10L  10.132370   0.506471\n",
       "HIF3A       6.221919   2.489839\n",
       "RNF10      11.675401   0.102617\n",
       "RNF11      11.322741   0.198024\n",
       "RNF13      10.980765   0.231565"
      ]
     },
     "execution_count": 71,
     "metadata": {},
     "output_type": "execute_result"
    }
   ],
   "source": [
    "df2_stats = df2[['mean2', 'variance2']]\n",
    "df2_stats.head()"
   ]
  },
  {
   "cell_type": "markdown",
   "metadata": {},
   "source": [
    "### Concatenate gene exp dataframes and perform t-test"
   ]
  },
  {
   "cell_type": "code",
   "execution_count": 72,
   "metadata": {
    "slideshow": {
     "slide_type": "subslide"
    }
   },
   "outputs": [],
   "source": [
    "df = pd.concat([df1_stats, df2_stats], axis=1)"
   ]
  },
  {
   "cell_type": "code",
   "execution_count": 73,
   "metadata": {
    "slideshow": {
     "slide_type": "subslide"
    }
   },
   "outputs": [
    {
     "data": {
      "text/plain": [
       "(12580, 74)"
      ]
     },
     "execution_count": 73,
     "metadata": {},
     "output_type": "execute_result"
    }
   ],
   "source": [
    "df1.shape"
   ]
  },
  {
   "cell_type": "code",
   "execution_count": 74,
   "metadata": {
    "slideshow": {
     "slide_type": "subslide"
    }
   },
   "outputs": [
    {
     "data": {
      "text/plain": [
       "(12580, 537)"
      ]
     },
     "execution_count": 74,
     "metadata": {},
     "output_type": "execute_result"
    }
   ],
   "source": [
    "df2.shape"
   ]
  },
  {
   "cell_type": "code",
   "execution_count": 90,
   "metadata": {},
   "outputs": [
    {
     "data": {
      "image/png": "[encoded data removed]",
      "text/plain": [
       "<Figure size 432x288 with 1 Axes>"
      ]
     },
     "metadata": {},
     "output_type": "display_data"
    }
   ],
   "source": [
    "import copy\n",
    "import matplotlib.pyplot as plt\n",
    "my_figure = plt.figure()\n",
    "plt.loglog() # log-scaling makes it easier\n",
    "\n",
    "\n",
    "plot_df = copy.deepcopy(df)\n",
    "\n",
    "\n",
    "# now, make a scatter plot\n",
    "plt.scatter(plot_df[\"mean1\"],\n",
    "            plot_df[\"mean2\"],\n",
    "            marker=\"o\",alpha=0.5,facecolor=\"none\",edgecolor=\"#007ADF\")\n",
    "plt.xlabel(\"Mean Transcript Levels Normal Cells\")\n",
    "plt.ylabel(\"Mean Transcript Levels Cancer Cells\")\n",
    "\n",
    "plt.show()\n"
   ]
  },
  {
   "cell_type": "code",
   "execution_count": 22,
   "metadata": {
    "slideshow": {
     "slide_type": "subslide"
    }
   },
   "outputs": [],
   "source": [
    "df['ttest'] = abs((df['mean1'] - df['mean2'])/(np.sqrt(df['variance1']/74 + df['variance2']/537)))"
   ]
  },
  {
   "cell_type": "code",
   "execution_count": 23,
   "metadata": {
    "slideshow": {
     "slide_type": "subslide"
    }
   },
   "outputs": [
    {
     "data": {
      "text/plain": [
       "sample\n",
       "TFCP2L1     45.069861\n",
       "PAK6        45.037406\n",
       "SCNN1A      41.761799\n",
       "PROM2       41.630070\n",
       "NDUFA4L2    41.419890\n",
       "Name: ttest, dtype: float64"
      ]
     },
     "execution_count": 23,
     "metadata": {},
     "output_type": "execute_result"
    }
   ],
   "source": [
    "diffexp_results = df['ttest']\n",
    "diffexp = diffexp_results.sort_values(ascending=False)\n",
    "diffexp.head()"
   ]
  },
  {
   "cell_type": "markdown",
   "metadata": {
    "slideshow": {
     "slide_type": "slide"
    }
   },
   "source": [
    "## The top 25 differentially expressed genes:"
   ]
  },
  {
   "cell_type": "code",
   "execution_count": 25,
   "metadata": {
    "slideshow": {
     "slide_type": "subslide"
    }
   },
   "outputs": [
    {
     "data": {
      "text/plain": [
       "sample\n",
       "PAK6        45.037406\n",
       "SCNN1A      41.761799\n",
       "PROM2       41.630070\n",
       "NDUFA4L2    41.419890\n",
       "NOL3        41.102853\n",
       "BRCC3       39.666073\n",
       "SFRP1       39.578176\n",
       "SCARB1      39.336044\n",
       "C7orf68     39.328517\n",
       "SLC15A4     38.738762\n",
       "C20orf54    37.866042\n",
       "GPC3        37.633499\n",
       "DDB2        37.573465\n",
       "PVT1        37.449893\n",
       "ZNF395      36.747181\n",
       "SPAG4       36.731714\n",
       "GABRD       36.592500\n",
       "KRBA1       36.530676\n",
       "C20orf46    36.410145\n",
       "EGLN3       36.152210\n",
       "ESRRG       36.070852\n",
       "AP1M2       36.035638\n",
       "MECOM       35.674698\n",
       "PIP4K2C     35.659240\n",
       "Name: ttest, dtype: float64"
      ]
     },
     "execution_count": 25,
     "metadata": {},
     "output_type": "execute_result"
    }
   ],
   "source": [
    "results = diffexp.iloc[1:25]\n",
    "results"
   ]
  },
  {
   "cell_type": "markdown",
   "metadata": {
    "slideshow": {
     "slide_type": "slide"
    }
   },
   "source": [
    "## Unsupervised learning\n",
    "* Create correlation matrices from our two dataframes\n",
    "* Find genes closely correlated with our top 25 differentially expressed genes\n",
    "* Perform hierarchical clustering with dendrograms"
   ]
  },
  {
   "cell_type": "markdown",
   "metadata": {
    "slideshow": {
     "slide_type": "slide"
    }
   },
   "source": [
    "### Correlation analysis\n",
    "* Transpose dataframes so gene names are column names\n",
    "* Perform correlation analysis using corr()"
   ]
  },
  {
   "cell_type": "code",
   "execution_count": 26,
   "metadata": {
    "slideshow": {
     "slide_type": "subslide"
    }
   },
   "outputs": [
    {
     "data": {
      "text/html": [
       "<div>\n",
       "<style scoped>\n",
       "    .dataframe tbody tr th:only-of-type {\n",
       "        vertical-align: middle;\n",
       "    }\n",
       "\n",
       "    .dataframe tbody tr th {\n",
       "        vertical-align: top;\n",
       "    }\n",
       "\n",
       "    .dataframe thead th {\n",
       "        text-align: right;\n",
       "    }\n",
       "</style>\n",
       "<table border=\"1\" class=\"dataframe\">\n",
       "  <thead>\n",
       "    <tr style=\"text-align: right;\">\n",
       "      <th>sample</th>\n",
       "      <th>ARHGEF10L</th>\n",
       "      <th>HIF3A</th>\n",
       "      <th>RNF10</th>\n",
       "      <th>RNF11</th>\n",
       "      <th>RNF13</th>\n",
       "      <th>GTF2IP1</th>\n",
       "      <th>REM1</th>\n",
       "      <th>C16orf13</th>\n",
       "      <th>FGFR1OP2</th>\n",
       "      <th>ATRX</th>\n",
       "      <th>...</th>\n",
       "      <th>PLEKHG4</th>\n",
       "      <th>PLEKHG5</th>\n",
       "      <th>METTL11A</th>\n",
       "      <th>GNGT2</th>\n",
       "      <th>TULP3</th>\n",
       "      <th>PTRF</th>\n",
       "      <th>BCL6B</th>\n",
       "      <th>GSTK1</th>\n",
       "      <th>SELP</th>\n",
       "      <th>SELS</th>\n",
       "    </tr>\n",
       "    <tr>\n",
       "      <th>sample</th>\n",
       "      <th></th>\n",
       "      <th></th>\n",
       "      <th></th>\n",
       "      <th></th>\n",
       "      <th></th>\n",
       "      <th></th>\n",
       "      <th></th>\n",
       "      <th></th>\n",
       "      <th></th>\n",
       "      <th></th>\n",
       "      <th></th>\n",
       "      <th></th>\n",
       "      <th></th>\n",
       "      <th></th>\n",
       "      <th></th>\n",
       "      <th></th>\n",
       "      <th></th>\n",
       "      <th></th>\n",
       "      <th></th>\n",
       "      <th></th>\n",
       "      <th></th>\n",
       "    </tr>\n",
       "  </thead>\n",
       "  <tbody>\n",
       "    <tr>\n",
       "      <th>ARHGEF10L</th>\n",
       "      <td>1.000000</td>\n",
       "      <td>0.626651</td>\n",
       "      <td>0.970761</td>\n",
       "      <td>0.927974</td>\n",
       "      <td>0.936019</td>\n",
       "      <td>0.943749</td>\n",
       "      <td>0.427008</td>\n",
       "      <td>0.865414</td>\n",
       "      <td>0.914637</td>\n",
       "      <td>0.928521</td>\n",
       "      <td>...</td>\n",
       "      <td>0.659032</td>\n",
       "      <td>0.817536</td>\n",
       "      <td>0.931738</td>\n",
       "      <td>0.597595</td>\n",
       "      <td>0.954517</td>\n",
       "      <td>0.839749</td>\n",
       "      <td>0.782195</td>\n",
       "      <td>0.950700</td>\n",
       "      <td>0.708851</td>\n",
       "      <td>0.922549</td>\n",
       "    </tr>\n",
       "    <tr>\n",
       "      <th>HIF3A</th>\n",
       "      <td>0.626651</td>\n",
       "      <td>1.000000</td>\n",
       "      <td>0.655024</td>\n",
       "      <td>0.573235</td>\n",
       "      <td>0.615720</td>\n",
       "      <td>0.673659</td>\n",
       "      <td>0.587259</td>\n",
       "      <td>0.551145</td>\n",
       "      <td>0.618143</td>\n",
       "      <td>0.638367</td>\n",
       "      <td>...</td>\n",
       "      <td>0.618784</td>\n",
       "      <td>0.798375</td>\n",
       "      <td>0.577466</td>\n",
       "      <td>0.673663</td>\n",
       "      <td>0.629941</td>\n",
       "      <td>0.672621</td>\n",
       "      <td>0.705693</td>\n",
       "      <td>0.552640</td>\n",
       "      <td>0.613266</td>\n",
       "      <td>0.613110</td>\n",
       "    </tr>\n",
       "    <tr>\n",
       "      <th>RNF10</th>\n",
       "      <td>0.970761</td>\n",
       "      <td>0.655024</td>\n",
       "      <td>1.000000</td>\n",
       "      <td>0.957809</td>\n",
       "      <td>0.965588</td>\n",
       "      <td>0.977922</td>\n",
       "      <td>0.476604</td>\n",
       "      <td>0.888602</td>\n",
       "      <td>0.947767</td>\n",
       "      <td>0.955082</td>\n",
       "      <td>...</td>\n",
       "      <td>0.693690</td>\n",
       "      <td>0.866657</td>\n",
       "      <td>0.960846</td>\n",
       "      <td>0.687354</td>\n",
       "      <td>0.978907</td>\n",
       "      <td>0.901826</td>\n",
       "      <td>0.849210</td>\n",
       "      <td>0.953211</td>\n",
       "      <td>0.763865</td>\n",
       "      <td>0.964064</td>\n",
       "    </tr>\n",
       "    <tr>\n",
       "      <th>RNF11</th>\n",
       "      <td>0.927974</td>\n",
       "      <td>0.573235</td>\n",
       "      <td>0.957809</td>\n",
       "      <td>1.000000</td>\n",
       "      <td>0.990070</td>\n",
       "      <td>0.963357</td>\n",
       "      <td>0.522086</td>\n",
       "      <td>0.887420</td>\n",
       "      <td>0.986602</td>\n",
       "      <td>0.953788</td>\n",
       "      <td>...</td>\n",
       "      <td>0.668426</td>\n",
       "      <td>0.828876</td>\n",
       "      <td>0.961524</td>\n",
       "      <td>0.642374</td>\n",
       "      <td>0.971171</td>\n",
       "      <td>0.915200</td>\n",
       "      <td>0.823709</td>\n",
       "      <td>0.958642</td>\n",
       "      <td>0.804219</td>\n",
       "      <td>0.979892</td>\n",
       "    </tr>\n",
       "    <tr>\n",
       "      <th>RNF13</th>\n",
       "      <td>0.936019</td>\n",
       "      <td>0.615720</td>\n",
       "      <td>0.965588</td>\n",
       "      <td>0.990070</td>\n",
       "      <td>1.000000</td>\n",
       "      <td>0.968751</td>\n",
       "      <td>0.521742</td>\n",
       "      <td>0.902966</td>\n",
       "      <td>0.982807</td>\n",
       "      <td>0.952748</td>\n",
       "      <td>...</td>\n",
       "      <td>0.682377</td>\n",
       "      <td>0.838143</td>\n",
       "      <td>0.960455</td>\n",
       "      <td>0.691540</td>\n",
       "      <td>0.972933</td>\n",
       "      <td>0.906519</td>\n",
       "      <td>0.826911</td>\n",
       "      <td>0.969741</td>\n",
       "      <td>0.804928</td>\n",
       "      <td>0.977945</td>\n",
       "    </tr>\n",
       "  </tbody>\n",
       "</table>\n",
       "<p>5 rows × 12580 columns</p>\n",
       "</div>"
      ],
      "text/plain": [
       "sample     ARHGEF10L     HIF3A     RNF10     RNF11     RNF13   GTF2IP1  \\\n",
       "sample                                                                   \n",
       "ARHGEF10L   1.000000  0.626651  0.970761  0.927974  0.936019  0.943749   \n",
       "HIF3A       0.626651  1.000000  0.655024  0.573235  0.615720  0.673659   \n",
       "RNF10       0.970761  0.655024  1.000000  0.957809  0.965588  0.977922   \n",
       "RNF11       0.927974  0.573235  0.957809  1.000000  0.990070  0.963357   \n",
       "RNF13       0.936019  0.615720  0.965588  0.990070  1.000000  0.968751   \n",
       "\n",
       "sample         REM1  C16orf13  FGFR1OP2      ATRX    ...      PLEKHG4  \\\n",
       "sample                                               ...                \n",
       "ARHGEF10L  0.427008  0.865414  0.914637  0.928521    ...     0.659032   \n",
       "HIF3A      0.587259  0.551145  0.618143  0.638367    ...     0.618784   \n",
       "RNF10      0.476604  0.888602  0.947767  0.955082    ...     0.693690   \n",
       "RNF11      0.522086  0.887420  0.986602  0.953788    ...     0.668426   \n",
       "RNF13      0.521742  0.902966  0.982807  0.952748    ...     0.682377   \n",
       "\n",
       "sample      PLEKHG5  METTL11A     GNGT2     TULP3      PTRF     BCL6B  \\\n",
       "sample                                                                  \n",
       "ARHGEF10L  0.817536  0.931738  0.597595  0.954517  0.839749  0.782195   \n",
       "HIF3A      0.798375  0.577466  0.673663  0.629941  0.672621  0.705693   \n",
       "RNF10      0.866657  0.960846  0.687354  0.978907  0.901826  0.849210   \n",
       "RNF11      0.828876  0.961524  0.642374  0.971171  0.915200  0.823709   \n",
       "RNF13      0.838143  0.960455  0.691540  0.972933  0.906519  0.826911   \n",
       "\n",
       "sample        GSTK1      SELP      SELS  \n",
       "sample                                   \n",
       "ARHGEF10L  0.950700  0.708851  0.922549  \n",
       "HIF3A      0.552640  0.613266  0.613110  \n",
       "RNF10      0.953211  0.763865  0.964064  \n",
       "RNF11      0.958642  0.804219  0.979892  \n",
       "RNF13      0.969741  0.804928  0.977945  \n",
       "\n",
       "[5 rows x 12580 columns]"
      ]
     },
     "execution_count": 26,
     "metadata": {},
     "output_type": "execute_result"
    }
   ],
   "source": [
    "df1_t = df1.T\n",
    "correlations1 = df1_t.corr()\n",
    "correlations1.head()"
   ]
  },
  {
   "cell_type": "code",
   "execution_count": 27,
   "metadata": {
    "slideshow": {
     "slide_type": "subslide"
    }
   },
   "outputs": [
    {
     "data": {
      "text/plain": [
       "(12580, 74)"
      ]
     },
     "execution_count": 27,
     "metadata": {},
     "output_type": "execute_result"
    }
   ],
   "source": [
    "# reduce number of replicates to 74 to improve computational efficiency\n",
    "df2 = df2.iloc[:,0:74]\n",
    "df2.shape"
   ]
  },
  {
   "cell_type": "code",
   "execution_count": 28,
   "metadata": {
    "slideshow": {
     "slide_type": "subslide"
    }
   },
   "outputs": [
    {
     "data": {
      "text/html": [
       "<div>\n",
       "<style scoped>\n",
       "    .dataframe tbody tr th:only-of-type {\n",
       "        vertical-align: middle;\n",
       "    }\n",
       "\n",
       "    .dataframe tbody tr th {\n",
       "        vertical-align: top;\n",
       "    }\n",
       "\n",
       "    .dataframe thead th {\n",
       "        text-align: right;\n",
       "    }\n",
       "</style>\n",
       "<table border=\"1\" class=\"dataframe\">\n",
       "  <thead>\n",
       "    <tr style=\"text-align: right;\">\n",
       "      <th>sample</th>\n",
       "      <th>ARHGEF10L</th>\n",
       "      <th>HIF3A</th>\n",
       "      <th>RNF10</th>\n",
       "      <th>RNF11</th>\n",
       "      <th>RNF13</th>\n",
       "      <th>GTF2IP1</th>\n",
       "      <th>REM1</th>\n",
       "      <th>C16orf13</th>\n",
       "      <th>FGFR1OP2</th>\n",
       "      <th>ATRX</th>\n",
       "      <th>...</th>\n",
       "      <th>PLEKHG4</th>\n",
       "      <th>PLEKHG5</th>\n",
       "      <th>METTL11A</th>\n",
       "      <th>GNGT2</th>\n",
       "      <th>TULP3</th>\n",
       "      <th>PTRF</th>\n",
       "      <th>BCL6B</th>\n",
       "      <th>GSTK1</th>\n",
       "      <th>SELP</th>\n",
       "      <th>SELS</th>\n",
       "    </tr>\n",
       "    <tr>\n",
       "      <th>sample</th>\n",
       "      <th></th>\n",
       "      <th></th>\n",
       "      <th></th>\n",
       "      <th></th>\n",
       "      <th></th>\n",
       "      <th></th>\n",
       "      <th></th>\n",
       "      <th></th>\n",
       "      <th></th>\n",
       "      <th></th>\n",
       "      <th></th>\n",
       "      <th></th>\n",
       "      <th></th>\n",
       "      <th></th>\n",
       "      <th></th>\n",
       "      <th></th>\n",
       "      <th></th>\n",
       "      <th></th>\n",
       "      <th></th>\n",
       "      <th></th>\n",
       "      <th></th>\n",
       "    </tr>\n",
       "  </thead>\n",
       "  <tbody>\n",
       "    <tr>\n",
       "      <th>ARHGEF10L</th>\n",
       "      <td>1.000000</td>\n",
       "      <td>0.024608</td>\n",
       "      <td>-0.173580</td>\n",
       "      <td>-0.241433</td>\n",
       "      <td>-0.087010</td>\n",
       "      <td>0.129747</td>\n",
       "      <td>0.116872</td>\n",
       "      <td>0.298257</td>\n",
       "      <td>-0.098879</td>\n",
       "      <td>-0.234766</td>\n",
       "      <td>...</td>\n",
       "      <td>0.116879</td>\n",
       "      <td>0.324520</td>\n",
       "      <td>-0.279668</td>\n",
       "      <td>0.091295</td>\n",
       "      <td>0.279363</td>\n",
       "      <td>0.153294</td>\n",
       "      <td>0.041579</td>\n",
       "      <td>0.077323</td>\n",
       "      <td>0.065454</td>\n",
       "      <td>-0.219571</td>\n",
       "    </tr>\n",
       "    <tr>\n",
       "      <th>HIF3A</th>\n",
       "      <td>0.024608</td>\n",
       "      <td>1.000000</td>\n",
       "      <td>-0.179497</td>\n",
       "      <td>-0.087668</td>\n",
       "      <td>-0.298205</td>\n",
       "      <td>-0.042542</td>\n",
       "      <td>0.129929</td>\n",
       "      <td>0.057476</td>\n",
       "      <td>-0.015399</td>\n",
       "      <td>0.122711</td>\n",
       "      <td>...</td>\n",
       "      <td>0.376146</td>\n",
       "      <td>0.386371</td>\n",
       "      <td>-0.290680</td>\n",
       "      <td>0.181297</td>\n",
       "      <td>0.247087</td>\n",
       "      <td>0.210081</td>\n",
       "      <td>0.247026</td>\n",
       "      <td>-0.231036</td>\n",
       "      <td>0.174809</td>\n",
       "      <td>-0.062993</td>\n",
       "    </tr>\n",
       "    <tr>\n",
       "      <th>RNF10</th>\n",
       "      <td>-0.173580</td>\n",
       "      <td>-0.179497</td>\n",
       "      <td>1.000000</td>\n",
       "      <td>0.079668</td>\n",
       "      <td>0.004473</td>\n",
       "      <td>0.245814</td>\n",
       "      <td>0.029143</td>\n",
       "      <td>0.047225</td>\n",
       "      <td>-0.203526</td>\n",
       "      <td>-0.259482</td>\n",
       "      <td>...</td>\n",
       "      <td>-0.186192</td>\n",
       "      <td>-0.262662</td>\n",
       "      <td>0.344579</td>\n",
       "      <td>-0.209520</td>\n",
       "      <td>-0.286742</td>\n",
       "      <td>-0.138825</td>\n",
       "      <td>-0.354226</td>\n",
       "      <td>0.378698</td>\n",
       "      <td>-0.076710</td>\n",
       "      <td>0.214445</td>\n",
       "    </tr>\n",
       "    <tr>\n",
       "      <th>RNF11</th>\n",
       "      <td>-0.241433</td>\n",
       "      <td>-0.087668</td>\n",
       "      <td>0.079668</td>\n",
       "      <td>1.000000</td>\n",
       "      <td>0.325274</td>\n",
       "      <td>-0.033927</td>\n",
       "      <td>0.020340</td>\n",
       "      <td>-0.240425</td>\n",
       "      <td>0.184659</td>\n",
       "      <td>0.226010</td>\n",
       "      <td>...</td>\n",
       "      <td>-0.220389</td>\n",
       "      <td>-0.234318</td>\n",
       "      <td>0.335986</td>\n",
       "      <td>-0.265711</td>\n",
       "      <td>-0.347088</td>\n",
       "      <td>-0.025457</td>\n",
       "      <td>0.134547</td>\n",
       "      <td>0.036823</td>\n",
       "      <td>0.053741</td>\n",
       "      <td>0.142740</td>\n",
       "    </tr>\n",
       "    <tr>\n",
       "      <th>RNF13</th>\n",
       "      <td>-0.087010</td>\n",
       "      <td>-0.298205</td>\n",
       "      <td>0.004473</td>\n",
       "      <td>0.325274</td>\n",
       "      <td>1.000000</td>\n",
       "      <td>-0.112549</td>\n",
       "      <td>-0.503279</td>\n",
       "      <td>-0.002180</td>\n",
       "      <td>0.048698</td>\n",
       "      <td>-0.012031</td>\n",
       "      <td>...</td>\n",
       "      <td>-0.508828</td>\n",
       "      <td>-0.622796</td>\n",
       "      <td>0.428826</td>\n",
       "      <td>-0.384353</td>\n",
       "      <td>-0.653723</td>\n",
       "      <td>-0.624539</td>\n",
       "      <td>-0.376590</td>\n",
       "      <td>0.415809</td>\n",
       "      <td>-0.276665</td>\n",
       "      <td>0.377531</td>\n",
       "    </tr>\n",
       "  </tbody>\n",
       "</table>\n",
       "<p>5 rows × 12580 columns</p>\n",
       "</div>"
      ],
      "text/plain": [
       "sample     ARHGEF10L     HIF3A     RNF10     RNF11     RNF13   GTF2IP1  \\\n",
       "sample                                                                   \n",
       "ARHGEF10L   1.000000  0.024608 -0.173580 -0.241433 -0.087010  0.129747   \n",
       "HIF3A       0.024608  1.000000 -0.179497 -0.087668 -0.298205 -0.042542   \n",
       "RNF10      -0.173580 -0.179497  1.000000  0.079668  0.004473  0.245814   \n",
       "RNF11      -0.241433 -0.087668  0.079668  1.000000  0.325274 -0.033927   \n",
       "RNF13      -0.087010 -0.298205  0.004473  0.325274  1.000000 -0.112549   \n",
       "\n",
       "sample         REM1  C16orf13  FGFR1OP2      ATRX    ...      PLEKHG4  \\\n",
       "sample                                               ...                \n",
       "ARHGEF10L  0.116872  0.298257 -0.098879 -0.234766    ...     0.116879   \n",
       "HIF3A      0.129929  0.057476 -0.015399  0.122711    ...     0.376146   \n",
       "RNF10      0.029143  0.047225 -0.203526 -0.259482    ...    -0.186192   \n",
       "RNF11      0.020340 -0.240425  0.184659  0.226010    ...    -0.220389   \n",
       "RNF13     -0.503279 -0.002180  0.048698 -0.012031    ...    -0.508828   \n",
       "\n",
       "sample      PLEKHG5  METTL11A     GNGT2     TULP3      PTRF     BCL6B  \\\n",
       "sample                                                                  \n",
       "ARHGEF10L  0.324520 -0.279668  0.091295  0.279363  0.153294  0.041579   \n",
       "HIF3A      0.386371 -0.290680  0.181297  0.247087  0.210081  0.247026   \n",
       "RNF10     -0.262662  0.344579 -0.209520 -0.286742 -0.138825 -0.354226   \n",
       "RNF11     -0.234318  0.335986 -0.265711 -0.347088 -0.025457  0.134547   \n",
       "RNF13     -0.622796  0.428826 -0.384353 -0.653723 -0.624539 -0.376590   \n",
       "\n",
       "sample        GSTK1      SELP      SELS  \n",
       "sample                                   \n",
       "ARHGEF10L  0.077323  0.065454 -0.219571  \n",
       "HIF3A     -0.231036  0.174809 -0.062993  \n",
       "RNF10      0.378698 -0.076710  0.214445  \n",
       "RNF11      0.036823  0.053741  0.142740  \n",
       "RNF13      0.415809 -0.276665  0.377531  \n",
       "\n",
       "[5 rows x 12580 columns]"
      ]
     },
     "execution_count": 28,
     "metadata": {},
     "output_type": "execute_result"
    }
   ],
   "source": [
    "df2_t = df2.T\n",
    "correlations2 = df2_t.corr()\n",
    "correlations2.head()"
   ]
  },
  {
   "cell_type": "markdown",
   "metadata": {},
   "source": [
    "### Create dataframes with correlated values for differentially expressed genes"
   ]
  },
  {
   "cell_type": "code",
   "execution_count": 29,
   "metadata": {
    "slideshow": {
     "slide_type": "subslide"
    }
   },
   "outputs": [],
   "source": [
    "diff_exp1 = correlations1[['PAK6', 'SCNN1A', 'PROM2', 'NDUFA4L2', 'NOL3', 'BRCC3', 'SFRP1', 'SCARB1', 'C7orf68', 'SLC15A4', 'C20orf54', 'GPC3', 'DDB2', 'PVT1', 'ZNF395', 'SPAG4', 'GABRD', 'KRBA1', 'C20orf46', 'EGLN3', 'ESRRG', 'AP1M2', 'MECOM', 'PIP4K2C']]"
   ]
  },
  {
   "cell_type": "code",
   "execution_count": 30,
   "metadata": {
    "slideshow": {
     "slide_type": "subslide"
    }
   },
   "outputs": [],
   "source": [
    "diff_exp2 = correlations2[['PAK6', 'SCNN1A', 'PROM2', 'NDUFA4L2', 'NOL3', 'BRCC3', 'SFRP1', 'SCARB1', 'C7orf68', 'SLC15A4', 'C20orf54', 'GPC3', 'DDB2', 'PVT1', 'ZNF395', 'SPAG4', 'GABRD', 'KRBA1', 'C20orf46', 'EGLN3', 'ESRRG', 'AP1M2', 'MECOM', 'PIP4K2C']]"
   ]
  },
  {
   "cell_type": "markdown",
   "metadata": {},
   "source": [
    "### Create object with only highly correlated genes"
   ]
  },
  {
   "cell_type": "code",
   "execution_count": 91,
   "metadata": {
    "slideshow": {
     "slide_type": "subslide"
    }
   },
   "outputs": [],
   "source": [
    "top_corr1 = diff_exp1[(diff_exp1 > abs(0.85)).any(1)]"
   ]
  },
  {
   "cell_type": "code",
   "execution_count": 92,
   "metadata": {
    "slideshow": {
     "slide_type": "subslide"
    }
   },
   "outputs": [
    {
     "data": {
      "text/plain": [
       "(10142, 24)"
      ]
     },
     "execution_count": 92,
     "metadata": {},
     "output_type": "execute_result"
    }
   ],
   "source": [
    "top_corr1.shape"
   ]
  },
  {
   "cell_type": "code",
   "execution_count": 33,
   "metadata": {
    "slideshow": {
     "slide_type": "subslide"
    }
   },
   "outputs": [],
   "source": [
    "top_corr2 = diff_exp2[(diff_exp2 > abs(0.85)).any(1)]"
   ]
  },
  {
   "cell_type": "code",
   "execution_count": 34,
   "metadata": {
    "slideshow": {
     "slide_type": "subslide"
    }
   },
   "outputs": [
    {
     "data": {
      "text/plain": [
       "(26, 24)"
      ]
     },
     "execution_count": 34,
     "metadata": {},
     "output_type": "execute_result"
    }
   ],
   "source": [
    "top_corr2.shape"
   ]
  },
  {
   "cell_type": "code",
   "execution_count": 94,
   "metadata": {},
   "outputs": [
    {
     "data": {
      "text/plain": [
       "(26, 26)"
      ]
     },
     "execution_count": 94,
     "metadata": {},
     "output_type": "execute_result"
    }
   ],
   "source": [
    "heat_corr2 = top_corr2*top_corr2.T\n",
    "heat_corr2.shape"
   ]
  },
  {
   "cell_type": "code",
   "execution_count": 95,
   "metadata": {},
   "outputs": [
    {
     "data": {
      "text/plain": [
       "<matplotlib.axes._subplots.AxesSubplot at 0x22723103358>"
      ]
     },
     "execution_count": 95,
     "metadata": {},
     "output_type": "execute_result"
    },
    {
     "data": {
      "image/png": "[encoded data removed]",
      "text/plain": [
       "<Figure size 432x288 with 2 Axes>"
      ]
     },
     "metadata": {},
     "output_type": "display_data"
    }
   ],
   "source": [
    "import seaborn as sns\n",
    "sns.heatmap(heat_corr2)"
   ]
  },
  {
   "cell_type": "markdown",
   "metadata": {
    "slideshow": {
     "slide_type": "slide"
    }
   },
   "source": [
    "### Hierarchical clustering\n",
    "* Import packages\n",
    "* Create separate objects for values and indexes of correlation data\n",
    "* Create dendrograms"
   ]
  },
  {
   "cell_type": "code",
   "execution_count": 24,
   "metadata": {
    "slideshow": {
     "slide_type": "subslide"
    }
   },
   "outputs": [],
   "source": [
    "import scipy\n",
    "from scipy.cluster.hierarchy import dendrogram, linkage\n",
    "from scipy.cluster.hierarchy import fcluster\n",
    "from scipy.cluster.hierarchy import cophenet\n",
    "from scipy.spatial.distance import pdist\n",
    "from pylab import rcParams\n",
    "import sklearn"
   ]
  },
  {
   "cell_type": "code",
   "execution_count": 38,
   "metadata": {
    "slideshow": {
     "slide_type": "subslide"
    }
   },
   "outputs": [],
   "source": [
    "topcorr_values1 = top_corr1.values\n",
    "topcorr_index1 = top_corr1.index\n"
   ]
  },
  {
   "cell_type": "code",
   "execution_count": 39,
   "metadata": {
    "slideshow": {
     "slide_type": "subslide"
    }
   },
   "outputs": [],
   "source": [
    "Z = linkage(topcorr_values1, 'ward')\n"
   ]
  },
  {
   "cell_type": "markdown",
   "metadata": {
    "slideshow": {
     "slide_type": "slide"
    }
   },
   "source": [
    "### Cluster dendrogram of differentially expressed genes correlated with normal cell samples"
   ]
  },
  {
   "cell_type": "code",
   "execution_count": 40,
   "metadata": {
    "slideshow": {
     "slide_type": "slide"
    }
   },
   "outputs": [
    {
     "data": {
      "image/png": "[encoded data removed]",
      "text/plain": [
       "<Figure size 1800x720 with 1 Axes>"
      ]
     },
     "metadata": {},
     "output_type": "display_data"
    }
   ],
   "source": [
    "plt.figure(figsize=(25, 10))\n",
    "plt.title('Hierarchical Clustering Dendrogram')\n",
    "plt.xlabel('Gene Names')\n",
    "plt.ylabel('Distance')\n",
    "dendrogram(\n",
    "    Z,\n",
    "    leaf_rotation=90.,  # rotates the x axis labels\n",
    "    leaf_font_size=8.,  # font size for the x axis labels\n",
    "    labels = topcorr_index1\n",
    ")\n",
    "plt.show()"
   ]
  },
  {
   "cell_type": "code",
   "execution_count": 41,
   "metadata": {
    "slideshow": {
     "slide_type": "slide"
    }
   },
   "outputs": [],
   "source": [
    "topcorr_values2 = top_corr2.values\n",
    "topcorr_index2 = top_corr2.index"
   ]
  },
  {
   "cell_type": "code",
   "execution_count": 42,
   "metadata": {
    "slideshow": {
     "slide_type": "subslide"
    }
   },
   "outputs": [],
   "source": [
    "Z2 = linkage(topcorr_values2, 'ward')\n"
   ]
  },
  {
   "cell_type": "markdown",
   "metadata": {
    "slideshow": {
     "slide_type": "slide"
    }
   },
   "source": [
    "### Dendrogram of hierarchical clustering of differentially expressed genes correlated with cancer cell samples"
   ]
  },
  {
   "cell_type": "code",
   "execution_count": 43,
   "metadata": {
    "slideshow": {
     "slide_type": "slide"
    }
   },
   "outputs": [
    {
     "data": {
      "image/png": "[encoded data removed]",
      "text/plain": [
       "<Figure size 1800x720 with 1 Axes>"
      ]
     },
     "metadata": {},
     "output_type": "display_data"
    }
   ],
   "source": [
    "plt.figure(figsize=(25, 10))\n",
    "plt.title('Hierarchical Clustering Dendrogram')\n",
    "plt.xlabel('Gene Names')\n",
    "plt.ylabel('Distance')\n",
    "dendrogram(\n",
    "    Z2,\n",
    "    leaf_rotation=90.,  # rotates the x axis labels\n",
    "    leaf_font_size=8.,  # font size for the x axis labels\n",
    "    labels = topcorr_index2\n",
    ")\n",
    "plt.show()"
   ]
  },
  {
   "cell_type": "markdown",
   "metadata": {},
   "source": [
    "## Analysis of results"
   ]
  },
  {
   "cell_type": "code",
   "execution_count": null,
   "metadata": {},
   "outputs": [],
   "source": []
  }
 ],
 "metadata": {
  "kernelspec": {
   "display_name": "Python 3",
   "language": "python",
   "name": "python3"
  },
  "language_info": {
   "codemirror_mode": {
    "name": "ipython",
    "version": 3
   },
   "file_extension": ".py",
   "mimetype": "text/x-python",
   "name": "python",
   "nbconvert_exporter": "python",
   "pygments_lexer": "ipython3",
   "version": "3.6.5"
  }
 },
 "nbformat": 4,
 "nbformat_minor": 2
}
